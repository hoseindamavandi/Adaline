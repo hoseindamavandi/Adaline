{
 "cells": [
  {
   "cell_type": "code",
   "execution_count": 34,
   "id": "4c794710-862a-4319-87eb-95e36646ccaf",
   "metadata": {},
   "outputs": [],
   "source": [
    "import numpy as np\n",
    "from matplotlib import pyplot as plt\n",
    "import pandas as pd\n",
    "from numpy.linalg import inv\n",
    "import random"
   ]
  },
  {
   "cell_type": "code",
   "execution_count": 77,
   "id": "7e9c6ffb-67ca-4352-869b-8bb85a871032",
   "metadata": {},
   "outputs": [],
   "source": [
    "N = 100\n",
    "\n",
    "def generate_data(N):\n",
    "    X = []\n",
    "    Y = []\n",
    "\n",
    "    for i in range(N):\n",
    "        x = random.randint(1,40) + random.random() * 4\n",
    "        X.append(x)\n",
    "\n",
    "        y= x + random.random() * 4\n",
    "        Y.append(y)\n",
    "\n",
    "    X = np.array(X)\n",
    "    Y = np.array(Y)\n",
    "\n",
    "    X = X.reshape(N,1)\n",
    "    Y = Y.reshape(N,1)\n",
    "    \n",
    "    return X,Y\n",
    "    \n",
    "X_train, Y_train = generate_data(100)\n",
    " \n",
    "#plt.scatter(X,Y)"
   ]
  },
  {
   "cell_type": "code",
   "execution_count": 92,
   "id": "b60a8249-d8bd-4b97-81a7-638785bd6352",
   "metadata": {},
   "outputs": [],
   "source": [
    "class AdalineRegressor:\n",
    "    def __init__(self):\n",
    "        pass\n",
    "    \n",
    "    def fit(self, X_train, Y_train):\n",
    "        self.w = np.matmul(inv(np.matmul(X_train.T , X_train)), np.matmul(X_train.T , Y_train))\n",
    "        \n",
    "    def predict(self, X_test):\n",
    "        Y_pred = np.matmul(X_test , self.w)\n",
    "        return Y_pred\n",
    "    \n",
    "    def evaluate(self, X_test , Y_test):\n",
    "        Y_pred = np.matmul(X_test , self.w)\n",
    "        sub = np.abs(Y_test - Y_pred)\n",
    "        average = np.mean(sub)\n",
    "        \n",
    "        return average"
   ]
  },
  {
   "cell_type": "code",
   "execution_count": 93,
   "id": "7989ceb3-6052-4fb3-a350-2b5458b2e830",
   "metadata": {},
   "outputs": [
    {
     "name": "stdout",
     "output_type": "stream",
     "text": [
      "[[1.0676429]]\n"
     ]
    }
   ],
   "source": [
    "model = AdalineRegressor()\n",
    "model.fit(X_train , Y_train)\n",
    "print(model.w)"
   ]
  },
  {
   "cell_type": "code",
   "execution_count": 94,
   "id": "3bdc5b56-5676-411b-ad55-f91c40893828",
   "metadata": {},
   "outputs": [],
   "source": [
    "Y_pred = np.matmul(X_train , model.w)"
   ]
  },
  {
   "cell_type": "code",
   "execution_count": 95,
   "id": "a48e8544-b62a-4b64-8268-afc3667ce91b",
   "metadata": {},
   "outputs": [
    {
     "data": {
      "text/plain": [
       "[<matplotlib.lines.Line2D at 0x1fb7af7e8e0>]"
      ]
     },
     "execution_count": 95,
     "metadata": {},
     "output_type": "execute_result"
    },
    {
     "data": {
      "image/png": "[encoded data removed]",
      "text/plain": [
       "<Figure size 432x288 with 1 Axes>"
      ]
     },
     "metadata": {
      "needs_background": "light"
     },
     "output_type": "display_data"
    }
   ],
   "source": [
    "plt.scatter(X_train , Y_train , c='blue')\n",
    "plt.plot(X_train , Y_pred , c='red' , lw = 4)"
   ]
  },
  {
   "cell_type": "code",
   "execution_count": 96,
   "id": "cccc4379-2b20-4891-a4e1-607b6f663d38",
   "metadata": {},
   "outputs": [
    {
     "name": "stdout",
     "output_type": "stream",
     "text": [
      "[40.57043007]\n"
     ]
    }
   ],
   "source": [
    "X_test = np.array([38])\n",
    "Y_predict = model.predict(X_test)\n",
    "print(Y_predict)"
   ]
  },
  {
   "cell_type": "code",
   "execution_count": 97,
   "id": "1980f8c3-7425-4cef-b6d1-1d4000e9310b",
   "metadata": {},
   "outputs": [],
   "source": [
    "X_test , Y_test = generate_data(100)"
   ]
  },
  {
   "cell_type": "code",
   "execution_count": 99,
   "id": "75919650-d483-4df2-9ed0-dec781960fc8",
   "metadata": {},
   "outputs": [
    {
     "name": "stdout",
     "output_type": "stream",
     "text": [
      "1.2082374424781894\n"
     ]
    }
   ],
   "source": [
    "loss = model.evaluate(X_test, Y_test)\n",
    "print(loss)"
   ]
  },
  {
   "cell_type": "code",
   "execution_count": null,
   "id": "23854032-248f-4484-b415-d1e596dc4ad1",
   "metadata": {},
   "outputs": [],
   "source": []
  }
 ],
 "metadata": {
  "kernelspec": {
   "display_name": "Python 3 (ipykernel)",
   "language": "python",
   "name": "python3"
  },
  "language_info": {
   "codemirror_mode": {
    "name": "ipython",
    "version": 3
   },
   "file_extension": ".py",
   "mimetype": "text/x-python",
   "name": "python",
   "nbconvert_exporter": "python",
   "pygments_lexer": "ipython3",
   "version": "3.9.6"
  }
 },
 "nbformat": 4,
 "nbformat_minor": 5
}
