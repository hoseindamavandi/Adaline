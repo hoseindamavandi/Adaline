{
 "cells": [
  {
   "cell_type": "code",
   "execution_count": 1,
   "id": "035fa4d6-c97f-4468-bbd2-ec5d8e404a79",
   "metadata": {},
   "outputs": [],
   "source": [
    "import matplotlib.pyplot as plt\n",
    "import numpy as np\n",
    "import pandas as pd\n",
    "from sklearn.model_selection import train_test_split\n",
    "from sklearn.datasets import load_iris\n",
    "from numpy.linalg import inv"
   ]
  },
  {
   "cell_type": "code",
   "execution_count": 2,
   "id": "fd24b9c3-da97-45f3-83b2-f102eb2afad8",
   "metadata": {},
   "outputs": [],
   "source": [
    "class KNearestNeighbors:\n",
    "    def __init__(self, k):\n",
    "        self.k = k\n",
    "        \n",
    "    def fit(self, X_train, Y_train):\n",
    "        self.X_train = X_train\n",
    "        self.Y_train = Y_train\n",
    "        self.number_class = len(np.unique(Y_train))\n",
    "        \n",
    "    def nearestNeighbors(self, X_test):\n",
    "        distance = np.sqrt(np.sum((X_test - self.X_train)**2, axis = 1))\n",
    "        near_neighbor = np.argsort(distance)[0:self.k]\n",
    "        return near_neighbor\n",
    "    \n",
    "    def predict(self, X_test):\n",
    "        self.X_test = X_test\n",
    "        y_predict=np.zeros(len(self.X_test))\n",
    "        for i, test in enumerate(self.X_test):\n",
    "            near_neighbor = self.nearestNeighbors(test)\n",
    "            y_predict[i] = np.argmax(np.bincount(self.Y_train[near_neighbor]))\n",
    "        return y_predict\n",
    "    \n",
    "    def evaluate(self, X_test, Y_test):\n",
    "        self.X_test = X_test\n",
    "        self.Y_test = Y_test\n",
    "        y_predict=self.predict(self.X_test)\n",
    "        evaluatation = (y_predict == self.Y_test).sum()/len(self.Y_test)\n",
    "        return evaluatation"
   ]
  },
  {
   "cell_type": "code",
   "execution_count": 3,
   "id": "b22b9527-5bda-4897-a2d9-9081812d7e97",
   "metadata": {},
   "outputs": [],
   "source": [
    "class AdalineClassifier:\n",
    "    def __init__(self):\n",
    "        pass\n",
    "    \n",
    "    def fit(self, X_train, Y_train):\n",
    "        self.w = np.matmul(inv(np.matmul(X_train.T, X_train)), np.matmul(X_train.T, Y_train))\n",
    "        \n",
    "    def predict(self, X_test):\n",
    "        Y_predic = np.matmul(X_test, self.w)\n",
    "        return Y_predic\n",
    "    \n",
    "    def evaluate(self, X_test, Y_test):\n",
    "        self.X_test = X_test\n",
    "        self.Y_test = Y_test\n",
    "        Y_predic = np.matmul(self.X_test, self.w)\n",
    "        predic = np.zeros(len(self.X_test))\n",
    "        for i, pred in enumerate(Y_predic):\n",
    "            if pred > 0.5:\n",
    "                predic[i] = (1)\n",
    "            elif pred < 0.5:\n",
    "                predic[i] = (0)\n",
    "        evaluatation = (predic == self.Y_test).sum()/len(self.Y_test)\n",
    "        return evaluatation, predic"
   ]
  },
  {
   "cell_type": "code",
   "execution_count": 4,
   "id": "cc8c678b-dbb9-4a1d-a96c-508de9133333",
   "metadata": {},
   "outputs": [],
   "source": [
    "iris = load_iris()\n",
    "X = iris['data']\n",
    "Y = iris['target']\n",
    "X1 = X[1:100,:]\n",
    "Y1 = Y[1:100]"
   ]
  },
  {
   "cell_type": "code",
   "execution_count": 5,
   "id": "09dc01fd-e6ee-44e7-a284-12cf2e61551c",
   "metadata": {},
   "outputs": [
    {
     "data": {
      "text/plain": [
       "1.0"
      ]
     },
     "execution_count": 5,
     "metadata": {},
     "output_type": "execute_result"
    }
   ],
   "source": [
    "knn = KNearestNeighbors(k=5)\n",
    "X_train, X_test, Y_train, Y_test = train_test_split(X1, Y1, test_size=0.5, random_state=3)\n",
    "knn.fit(X_train,Y_train)\n",
    "knn_prediction = knn.predict(X_test)\n",
    "evaluatation = knn.evaluate(X_test, Y_test)\n",
    "evaluatation"
   ]
  },
  {
   "cell_type": "code",
   "execution_count": 6,
   "id": "6f8b4a19-0159-4a78-aed2-888cf41a1a9d",
   "metadata": {},
   "outputs": [
    {
     "data": {
      "text/plain": [
       "1.0"
      ]
     },
     "execution_count": 6,
     "metadata": {},
     "output_type": "execute_result"
    }
   ],
   "source": [
    "model = AdalineClassifier()\n",
    "model.fit(X_train, Y_train)\n",
    "y_predic = model.predict(X)\n",
    "evaluatation, prediction = model.evaluate(X_test, Y_test)\n",
    "evaluatation"
   ]
  },
  {
   "cell_type": "code",
   "execution_count": null,
   "id": "07d68425-9131-4b2b-9f54-59aa35b6302e",
   "metadata": {},
   "outputs": [],
   "source": []
  }
 ],
 "metadata": {
  "kernelspec": {
   "display_name": "Python 3 (ipykernel)",
   "language": "python",
   "name": "python3"
  },
  "language_info": {
   "codemirror_mode": {
    "name": "ipython",
    "version": 3
   },
   "file_extension": ".py",
   "mimetype": "text/x-python",
   "name": "python",
   "nbconvert_exporter": "python",
   "pygments_lexer": "ipython3",
   "version": "3.9.6"
  }
 },
 "nbformat": 4,
 "nbformat_minor": 5
}
